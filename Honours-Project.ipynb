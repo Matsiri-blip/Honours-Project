{
 "cells": [
  {
   "cell_type": "code",
   "execution_count": 1,
   "id": "fbe310de",
   "metadata": {},
   "outputs": [],
   "source": [
    "import numpy as np"
   ]
  },
  {
   "cell_type": "code",
   "execution_count": 2,
   "id": "a8f935c6",
   "metadata": {},
   "outputs": [],
   "source": [
    "a  = np.random.randint(2,size = (4,4))"
   ]
  },
  {
   "cell_type": "code",
   "execution_count": 115,
   "id": "7c34ca22",
   "metadata": {},
   "outputs": [
    {
     "data": {
      "text/plain": [
       "array([[1, 1, 0, 0],\n",
       "       [0, 1, 0, 1],\n",
       "       [1, 0, 0, 1],\n",
       "       [0, 1, 0, 0]])"
      ]
     },
     "execution_count": 115,
     "metadata": {},
     "output_type": "execute_result"
    }
   ],
   "source": [
    "a"
   ]
  },
  {
   "cell_type": "code",
   "execution_count": 117,
   "id": "97b58384",
   "metadata": {},
   "outputs": [
    {
     "data": {
      "text/plain": [
       "array([1, 0])"
      ]
     },
     "execution_count": 117,
     "metadata": {},
     "output_type": "execute_result"
    }
   ],
   "source": [
    "a[][1:n]"
   ]
  },
  {
   "cell_type": "code",
   "execution_count": 109,
   "id": "627282ad",
   "metadata": {},
   "outputs": [
    {
     "data": {
      "text/plain": [
       "array([1., 1., 0.])"
      ]
     },
     "execution_count": 109,
     "metadata": {},
     "output_type": "execute_result"
    }
   ],
   "source": [
    "n=3\n",
    "element_number = 0\n",
    "for i in range(n):\n",
    "    element_number +=i\n",
    "    if (i-n)==0:\n",
    "        break\n",
    "horizontal = np.zeros(element_number)\n",
    "horizontal[0:n-1]= a[0][1:n]\n",
    "horizontal[n-1:n+1] = a[1][2:n]\n",
    "horizontal"
   ]
  },
  {
   "cell_type": "code",
   "execution_count": 108,
   "id": "b6e8cae7",
   "metadata": {},
   "outputs": [
    {
     "ename": "TypeError",
     "evalue": "array() missing required argument 'object' (pos 0)",
     "output_type": "error",
     "traceback": [
      "\u001b[1;31m---------------------------------------------------------------------------\u001b[0m",
      "\u001b[1;31mTypeError\u001b[0m                                 Traceback (most recent call last)",
      "Input \u001b[1;32mIn [108]\u001b[0m, in \u001b[0;36m<cell line: 3>\u001b[1;34m()\u001b[0m\n\u001b[0;32m      2\u001b[0m horizontal \u001b[38;5;241m=\u001b[39m np\u001b[38;5;241m.\u001b[39mzeros(element_number)\n\u001b[0;32m      3\u001b[0m \u001b[38;5;28;01mfor\u001b[39;00m i \u001b[38;5;129;01min\u001b[39;00m \u001b[38;5;28mrange\u001b[39m(n):\n\u001b[1;32m----> 4\u001b[0m     horizontanl \u001b[38;5;241m=\u001b[39m \u001b[43mnp\u001b[49m\u001b[38;5;241;43m.\u001b[39;49m\u001b[43marray\u001b[49m\u001b[43m(\u001b[49m\u001b[43m)\u001b[49m\n",
      "\u001b[1;31mTypeError\u001b[0m: array() missing required argument 'object' (pos 0)"
     ]
    }
   ],
   "source": [
    "n=3\n",
    "horizontal = np.zeros(element_number)\n",
    "for i in range(n):\n",
    "    horizontanl = np.array()"
   ]
  },
  {
   "cell_type": "code",
   "execution_count": 24,
   "id": "3755bcb6",
   "metadata": {},
   "outputs": [
    {
     "data": {
      "text/plain": [
       "15"
      ]
     },
     "execution_count": 24,
     "metadata": {},
     "output_type": "execute_result"
    }
   ],
   "source": [
    "5 +4+3+2+1\n"
   ]
  },
  {
   "cell_type": "code",
   "execution_count": 69,
   "id": "5f75fb1b",
   "metadata": {},
   "outputs": [
    {
     "data": {
      "text/plain": [
       "array([0., 0., 0., 0., 0., 1.])"
      ]
     },
     "execution_count": 69,
     "metadata": {},
     "output_type": "execute_result"
    }
   ],
   "source": [
    "horizontal = np.zeros(element_number)\n",
    "horizontal[-1]=1\n",
    "horizontal"
   ]
  },
  {
   "cell_type": "code",
   "execution_count": 71,
   "id": "13b908f3",
   "metadata": {},
   "outputs": [
    {
     "data": {
      "text/plain": [
       "array([], dtype=float64)"
      ]
     },
     "execution_count": 71,
     "metadata": {},
     "output_type": "execute_result"
    }
   ],
   "source": [
    "horizontal[n-1:n-3]"
   ]
  },
  {
   "cell_type": "code",
   "execution_count": 72,
   "id": "4babcb76",
   "metadata": {},
   "outputs": [
    {
     "data": {
      "text/plain": [
       "'0b0'"
      ]
     },
     "execution_count": 72,
     "metadata": {},
     "output_type": "execute_result"
    }
   ],
   "source": [
    "bin(0)"
   ]
  },
  {
   "cell_type": "code",
   "execution_count": 76,
   "id": "6a0cae96",
   "metadata": {},
   "outputs": [
    {
     "data": {
      "text/plain": [
       "array([0, 0, 1, 1, 0, 1])"
      ]
     },
     "execution_count": 76,
     "metadata": {},
     "output_type": "execute_result"
    }
   ],
   "source": [
    "m = np.random.randint(2, size = (element_number))\n",
    "m"
   ]
  },
  {
   "cell_type": "code",
   "execution_count": 74,
   "id": "f81aeb43",
   "metadata": {},
   "outputs": [
    {
     "data": {
      "text/plain": [
       "array([[1, 1, 1, 0],\n",
       "       [0, 1, 1, 0],\n",
       "       [0, 0, 0, 1],\n",
       "       [1, 1, 0, 0]])"
      ]
     },
     "execution_count": 74,
     "metadata": {},
     "output_type": "execute_result"
    }
   ],
   "source": [
    "m"
   ]
  },
  {
   "cell_type": "code",
   "execution_count": 89,
   "id": "84381336",
   "metadata": {},
   "outputs": [],
   "source": []
  },
  {
   "cell_type": "code",
   "execution_count": 3,
   "id": "e2c2024a",
   "metadata": {},
   "outputs": [],
   "source": [
    "k = 6\n",
    "binary = int(bin(k)[2:])"
   ]
  },
  {
   "cell_type": "code",
   "execution_count": 43,
   "id": "dbf73748",
   "metadata": {},
   "outputs": [
    {
     "data": {
      "text/plain": [
       "array([1, 1])"
      ]
     },
     "execution_count": 43,
     "metadata": {},
     "output_type": "execute_result"
    }
   ],
   "source": [
    "n= 4\n",
    "k = 3\n",
    "binary = int(bin(k)[2:])\n",
    "horizontal_matrix = np.array([int(i) for i in str(binary)])\n",
    "horizontal_matrix"
   ]
  },
  {
   "cell_type": "code",
   "execution_count": 42,
   "id": "8bb4ecaa",
   "metadata": {},
   "outputs": [
    {
     "ename": "ValueError",
     "evalue": "could not broadcast input array from shape (2,) into shape (3,)",
     "output_type": "error",
     "traceback": [
      "\u001b[1;31m---------------------------------------------------------------------------\u001b[0m",
      "\u001b[1;31mValueError\u001b[0m                                Traceback (most recent call last)",
      "Input \u001b[1;32mIn [42]\u001b[0m, in \u001b[0;36m<cell line: 2>\u001b[1;34m()\u001b[0m\n\u001b[0;32m      1\u001b[0m a \u001b[38;5;241m=\u001b[39m np\u001b[38;5;241m.\u001b[39mzeros((n,n))\n\u001b[1;32m----> 2\u001b[0m a[\u001b[38;5;241m0\u001b[39m][\u001b[38;5;241m1\u001b[39m:n]\u001b[38;5;241m=\u001b[39mhorizontal_matrix[\u001b[38;5;241m0\u001b[39m:n\u001b[38;5;241m-\u001b[39m\u001b[38;5;241m1\u001b[39m]\n\u001b[0;32m      3\u001b[0m a[\u001b[38;5;241m1\u001b[39m][\u001b[38;5;241m2\u001b[39m:n]\u001b[38;5;241m=\u001b[39m horizontal_matrix[\u001b[38;5;241m2\u001b[39m:n]\n\u001b[0;32m      4\u001b[0m \u001b[38;5;66;03m# a[3][3:n] = horizontal_matrix[2:n-1]\u001b[39;00m\n",
      "\u001b[1;31mValueError\u001b[0m: could not broadcast input array from shape (2,) into shape (3,)"
     ]
    }
   ],
   "source": [
    "a = np.zeros((n,n))\n",
    "a[0][1:n]=horizontal_matrix[0:n-1]\n",
    "a[1][2:n]= horizontal_matrix[2:n]\n",
    "# a[3][3:n] = horizontal_matrix[2:n-1]\n",
    "a"
   ]
  },
  {
   "cell_type": "code",
   "execution_count": 34,
   "id": "f648eb4e",
   "metadata": {},
   "outputs": [
    {
     "data": {
      "text/plain": [
       "array([0])"
      ]
     },
     "execution_count": 34,
     "metadata": {},
     "output_type": "execute_result"
    }
   ],
   "source": [
    "horizontal_matrix[2:3]"
   ]
  },
  {
   "cell_type": "code",
   "execution_count": 45,
   "id": "fbcff34f",
   "metadata": {},
   "outputs": [
    {
     "data": {
      "text/plain": [
       "2142"
      ]
     },
     "execution_count": 45,
     "metadata": {},
     "output_type": "execute_result"
    }
   ],
   "source": [
    "63*34"
   ]
  },
  {
   "cell_type": "code",
   "execution_count": null,
   "id": "9268bad1",
   "metadata": {},
   "outputs": [],
   "source": []
  }
 ],
 "metadata": {
  "kernelspec": {
   "display_name": "Python 3 (ipykernel)",
   "language": "python",
   "name": "python3"
  },
  "language_info": {
   "codemirror_mode": {
    "name": "ipython",
    "version": 3
   },
   "file_extension": ".py",
   "mimetype": "text/x-python",
   "name": "python",
   "nbconvert_exporter": "python",
   "pygments_lexer": "ipython3",
   "version": "3.9.12"
  }
 },
 "nbformat": 4,
 "nbformat_minor": 5
}
